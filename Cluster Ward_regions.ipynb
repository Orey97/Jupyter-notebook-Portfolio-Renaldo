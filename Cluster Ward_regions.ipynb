{
 "cells": [
  {
   "cell_type": "code",
   "execution_count": 1,
   "metadata": {},
   "outputs": [],
   "source": [
    "import pandas as pd\n",
    "import numpy as np\n",
    "import matplotlib.pyplot as plt\n",
    "from scipy.cluster.hierarchy import linkage, dendrogram, fcluster\n",
    "from scipy.spatial.distance import pdist, squareform\n",
    "from sklearn.preprocessing import StandardScaler\n",
    "from sklearn.metrics import silhouette_samples, silhouette_score"
   ]
  },
  {
   "cell_type": "code",
   "execution_count": 6,
   "metadata": {},
   "outputs": [
    {
     "name": "stdout",
     "output_type": "stream",
     "text": [
      "       Regione  Indicepov  Crimini  Scolarizza  Dis_giov       Pil  Internet\n",
      "0      Abruzzo       9.20      2.8        80.4      24.0   27703.0     48.10\n",
      "1   Basilicata      26.50      4.0        84.6      38.3   10973.0     39.90\n",
      "2     Calabria      29.60      2.6        78.3      31.8   33988.0     38.60\n",
      "3     Campania      28.50      3.2        72.1      38.1   95087.0     45.30\n",
      "4      EmiliaR       4.60      3.2        81.4      18.3  133035.0     50.80\n",
      "5       Friuli       9.10      4.6        80.2      18.9   34856.0     49.60\n",
      "6        Lazio       7.80      3.1        83.0      30.6  168907.0     51.50\n",
      "7      Liguria       6.10      3.5        84.7      18.8   43440.0     42.30\n",
      "8    Lombardia       5.10      3.2        74.1      18.5  310952.0     50.60\n",
      "9       Marche       8.80      2.5        80.7      22.6   40396.0     53.00\n",
      "10      Molise      18.30      1.9        78.7      27.1    6449.0     45.50\n",
      "11    Piemonte       6.80      4.7        74.8      24.1  121563.0     46.20\n",
      "12      Puglia      21.90      3.1        70.9      32.6   68292.0     38.10\n",
      "13    Sardegna      26.00      4.3        70.3      44.7   33450.0     49.50\n",
      "14     Sicilia      29.30      3.8        68.6      38.5   86015.0     39.80\n",
      "15     Toscana       6.60      4.4        77.0      17.8  104002.0     48.80\n",
      "16    Trentino      10.85      7.5        73.8      10.2   16718.0     51.55\n",
      "17      Umbria       7.80      2.4        87.6      19.6   21145.0     48.60\n",
      "18      ValleA       7.60      3.4        70.4      17.5    4183.0     48.20\n",
      "19      Veneto       5.40      2.8        78.7      14.4  141530.0     50.10\n"
     ]
    },
    {
     "name": "stderr",
     "output_type": "stream",
     "text": [
      "C:\\Users\\albaa\\AppData\\Local\\Temp\\ipykernel_27408\\2936519422.py:3: FutureWarning: The 'delim_whitespace' keyword in pd.read_csv is deprecated and will be removed in a future version. Use ``sep='\\s+'`` instead\n",
      "  regioni = pd.read_csv(r\"C:\\Users\\albaa\\Desktop\\DATA MINING UNIBO\\CLUSTER\\regioni.txt\",\n"
     ]
    }
   ],
   "source": [
    "# Lettura dei dati\n",
    "# Usa delim_whitespace=True per interpretare correttamente le separazioni multiple\n",
    "regioni = pd.read_csv(r\"C:\\Users\\albaa\\Desktop\\DATA MINING UNIBO\\CLUSTER\\regioni.txt\", \n",
    "                      delim_whitespace=True, header=0)\n",
    "print(regioni)"
   ]
  },
  {
   "cell_type": "code",
   "execution_count": 8,
   "metadata": {},
   "outputs": [
    {
     "name": "stdout",
     "output_type": "stream",
     "text": [
      "Dimensioni: (20, 7)\n"
     ]
    }
   ],
   "source": [
    "# Visualizziamo dimensioni, informazioni e statistiche (escludendo la prima colonna)\n",
    "print(\"Dimensioni:\", regioni.shape)"
   ]
  },
  {
   "cell_type": "code",
   "execution_count": 9,
   "metadata": {},
   "outputs": [
    {
     "name": "stdout",
     "output_type": "stream",
     "text": [
      "\n",
      "Info:\n",
      "<class 'pandas.core.frame.DataFrame'>\n",
      "RangeIndex: 20 entries, 0 to 19\n",
      "Data columns (total 7 columns):\n",
      " #   Column      Non-Null Count  Dtype  \n",
      "---  ------      --------------  -----  \n",
      " 0   Regione     20 non-null     object \n",
      " 1   Indicepov   20 non-null     float64\n",
      " 2   Crimini     20 non-null     float64\n",
      " 3   Scolarizza  20 non-null     float64\n",
      " 4   Dis_giov    20 non-null     float64\n",
      " 5   Pil         20 non-null     float64\n",
      " 6   Internet    20 non-null     float64\n",
      "dtypes: float64(6), object(1)\n",
      "memory usage: 1.2+ KB\n",
      "None\n"
     ]
    }
   ],
   "source": [
    "print('\\nInfo:')\n",
    "print(regioni.info())"
   ]
  },
  {
   "cell_type": "code",
   "execution_count": 10,
   "metadata": {},
   "outputs": [
    {
     "name": "stdout",
     "output_type": "stream",
     "text": [
      "\n",
      "Statistiche escludendo la prima colonna:\n",
      "       Indicepov    Crimini  Scolarizza   Dis_giov            Pil  Internet\n",
      "count  20.000000  20.000000   20.000000  20.000000      20.000000  20.00000\n",
      "mean   13.792500   3.550000   77.515000  25.320000   75134.200000  46.80250\n",
      "std     9.404314   1.204159    5.458675   9.446726   74489.899453   4.67092\n",
      "min     4.600000   1.900000   68.600000  10.200000    4183.000000  38.10000\n",
      "25%     6.750000   2.800000   73.375000  18.450000   26063.500000  44.55000\n",
      "50%     8.950000   3.200000   78.500000  23.300000   41918.000000  48.40000\n",
      "75%    22.925000   4.075000   80.875000  32.000000  108392.250000  50.22500\n",
      "max    29.600000   7.500000   87.600000  44.700000  310952.000000  53.00000\n"
     ]
    }
   ],
   "source": [
    "print('\\nStatistiche escludendo la prima colonna:')\n",
    "print(regioni.iloc[:,1:7].describe())\n"
   ]
  },
  {
   "cell_type": "code",
   "execution_count": null,
   "metadata": {},
   "outputs": [
    {
     "data": {
      "text/html": [
       "<div>\n",
       "<style scoped>\n",
       "    .dataframe tbody tr th:only-of-type {\n",
       "        vertical-align: middle;\n",
       "    }\n",
       "\n",
       "    .dataframe tbody tr th {\n",
       "        vertical-align: top;\n",
       "    }\n",
       "\n",
       "    .dataframe thead th {\n",
       "        text-align: right;\n",
       "    }\n",
       "</style>\n",
       "<table border=\"1\" class=\"dataframe\">\n",
       "  <thead>\n",
       "    <tr style=\"text-align: right;\">\n",
       "      <th></th>\n",
       "      <th>Indicepov</th>\n",
       "      <th>Crimini</th>\n",
       "      <th>Scolarizza</th>\n",
       "      <th>Dis_giov</th>\n",
       "      <th>Pil</th>\n",
       "      <th>Internet</th>\n",
       "    </tr>\n",
       "  </thead>\n",
       "  <tbody>\n",
       "    <tr>\n",
       "      <th>0</th>\n",
       "      <td>9.20</td>\n",
       "      <td>2.8</td>\n",
       "      <td>80.4</td>\n",
       "      <td>24.0</td>\n",
       "      <td>27703.0</td>\n",
       "      <td>48.10</td>\n",
       "    </tr>\n",
       "    <tr>\n",
       "      <th>1</th>\n",
       "      <td>26.50</td>\n",
       "      <td>4.0</td>\n",
       "      <td>84.6</td>\n",
       "      <td>38.3</td>\n",
       "      <td>10973.0</td>\n",
       "      <td>39.90</td>\n",
       "    </tr>\n",
       "    <tr>\n",
       "      <th>2</th>\n",
       "      <td>29.60</td>\n",
       "      <td>2.6</td>\n",
       "      <td>78.3</td>\n",
       "      <td>31.8</td>\n",
       "      <td>33988.0</td>\n",
       "      <td>38.60</td>\n",
       "    </tr>\n",
       "    <tr>\n",
       "      <th>3</th>\n",
       "      <td>28.50</td>\n",
       "      <td>3.2</td>\n",
       "      <td>72.1</td>\n",
       "      <td>38.1</td>\n",
       "      <td>95087.0</td>\n",
       "      <td>45.30</td>\n",
       "    </tr>\n",
       "    <tr>\n",
       "      <th>4</th>\n",
       "      <td>4.60</td>\n",
       "      <td>3.2</td>\n",
       "      <td>81.4</td>\n",
       "      <td>18.3</td>\n",
       "      <td>133035.0</td>\n",
       "      <td>50.80</td>\n",
       "    </tr>\n",
       "    <tr>\n",
       "      <th>5</th>\n",
       "      <td>9.10</td>\n",
       "      <td>4.6</td>\n",
       "      <td>80.2</td>\n",
       "      <td>18.9</td>\n",
       "      <td>34856.0</td>\n",
       "      <td>49.60</td>\n",
       "    </tr>\n",
       "    <tr>\n",
       "      <th>6</th>\n",
       "      <td>7.80</td>\n",
       "      <td>3.1</td>\n",
       "      <td>83.0</td>\n",
       "      <td>30.6</td>\n",
       "      <td>168907.0</td>\n",
       "      <td>51.50</td>\n",
       "    </tr>\n",
       "    <tr>\n",
       "      <th>7</th>\n",
       "      <td>6.10</td>\n",
       "      <td>3.5</td>\n",
       "      <td>84.7</td>\n",
       "      <td>18.8</td>\n",
       "      <td>43440.0</td>\n",
       "      <td>42.30</td>\n",
       "    </tr>\n",
       "    <tr>\n",
       "      <th>8</th>\n",
       "      <td>5.10</td>\n",
       "      <td>3.2</td>\n",
       "      <td>74.1</td>\n",
       "      <td>18.5</td>\n",
       "      <td>310952.0</td>\n",
       "      <td>50.60</td>\n",
       "    </tr>\n",
       "    <tr>\n",
       "      <th>9</th>\n",
       "      <td>8.80</td>\n",
       "      <td>2.5</td>\n",
       "      <td>80.7</td>\n",
       "      <td>22.6</td>\n",
       "      <td>40396.0</td>\n",
       "      <td>53.00</td>\n",
       "    </tr>\n",
       "    <tr>\n",
       "      <th>10</th>\n",
       "      <td>18.30</td>\n",
       "      <td>1.9</td>\n",
       "      <td>78.7</td>\n",
       "      <td>27.1</td>\n",
       "      <td>6449.0</td>\n",
       "      <td>45.50</td>\n",
       "    </tr>\n",
       "    <tr>\n",
       "      <th>11</th>\n",
       "      <td>6.80</td>\n",
       "      <td>4.7</td>\n",
       "      <td>74.8</td>\n",
       "      <td>24.1</td>\n",
       "      <td>121563.0</td>\n",
       "      <td>46.20</td>\n",
       "    </tr>\n",
       "    <tr>\n",
       "      <th>12</th>\n",
       "      <td>21.90</td>\n",
       "      <td>3.1</td>\n",
       "      <td>70.9</td>\n",
       "      <td>32.6</td>\n",
       "      <td>68292.0</td>\n",
       "      <td>38.10</td>\n",
       "    </tr>\n",
       "    <tr>\n",
       "      <th>13</th>\n",
       "      <td>26.00</td>\n",
       "      <td>4.3</td>\n",
       "      <td>70.3</td>\n",
       "      <td>44.7</td>\n",
       "      <td>33450.0</td>\n",
       "      <td>49.50</td>\n",
       "    </tr>\n",
       "    <tr>\n",
       "      <th>14</th>\n",
       "      <td>29.30</td>\n",
       "      <td>3.8</td>\n",
       "      <td>68.6</td>\n",
       "      <td>38.5</td>\n",
       "      <td>86015.0</td>\n",
       "      <td>39.80</td>\n",
       "    </tr>\n",
       "    <tr>\n",
       "      <th>15</th>\n",
       "      <td>6.60</td>\n",
       "      <td>4.4</td>\n",
       "      <td>77.0</td>\n",
       "      <td>17.8</td>\n",
       "      <td>104002.0</td>\n",
       "      <td>48.80</td>\n",
       "    </tr>\n",
       "    <tr>\n",
       "      <th>16</th>\n",
       "      <td>10.85</td>\n",
       "      <td>7.5</td>\n",
       "      <td>73.8</td>\n",
       "      <td>10.2</td>\n",
       "      <td>16718.0</td>\n",
       "      <td>51.55</td>\n",
       "    </tr>\n",
       "    <tr>\n",
       "      <th>17</th>\n",
       "      <td>7.80</td>\n",
       "      <td>2.4</td>\n",
       "      <td>87.6</td>\n",
       "      <td>19.6</td>\n",
       "      <td>21145.0</td>\n",
       "      <td>48.60</td>\n",
       "    </tr>\n",
       "    <tr>\n",
       "      <th>18</th>\n",
       "      <td>7.60</td>\n",
       "      <td>3.4</td>\n",
       "      <td>70.4</td>\n",
       "      <td>17.5</td>\n",
       "      <td>4183.0</td>\n",
       "      <td>48.20</td>\n",
       "    </tr>\n",
       "    <tr>\n",
       "      <th>19</th>\n",
       "      <td>5.40</td>\n",
       "      <td>2.8</td>\n",
       "      <td>78.7</td>\n",
       "      <td>14.4</td>\n",
       "      <td>141530.0</td>\n",
       "      <td>50.10</td>\n",
       "    </tr>\n",
       "  </tbody>\n",
       "</table>\n",
       "</div>"
      ],
      "text/plain": [
       "    Indicepov  Crimini  Scolarizza  Dis_giov       Pil  Internet\n",
       "0        9.20      2.8        80.4      24.0   27703.0     48.10\n",
       "1       26.50      4.0        84.6      38.3   10973.0     39.90\n",
       "2       29.60      2.6        78.3      31.8   33988.0     38.60\n",
       "3       28.50      3.2        72.1      38.1   95087.0     45.30\n",
       "4        4.60      3.2        81.4      18.3  133035.0     50.80\n",
       "5        9.10      4.6        80.2      18.9   34856.0     49.60\n",
       "6        7.80      3.1        83.0      30.6  168907.0     51.50\n",
       "7        6.10      3.5        84.7      18.8   43440.0     42.30\n",
       "8        5.10      3.2        74.1      18.5  310952.0     50.60\n",
       "9        8.80      2.5        80.7      22.6   40396.0     53.00\n",
       "10      18.30      1.9        78.7      27.1    6449.0     45.50\n",
       "11       6.80      4.7        74.8      24.1  121563.0     46.20\n",
       "12      21.90      3.1        70.9      32.6   68292.0     38.10\n",
       "13      26.00      4.3        70.3      44.7   33450.0     49.50\n",
       "14      29.30      3.8        68.6      38.5   86015.0     39.80\n",
       "15       6.60      4.4        77.0      17.8  104002.0     48.80\n",
       "16      10.85      7.5        73.8      10.2   16718.0     51.55\n",
       "17       7.80      2.4        87.6      19.6   21145.0     48.60\n",
       "18       7.60      3.4        70.4      17.5    4183.0     48.20\n",
       "19       5.40      2.8        78.7      14.4  141530.0     50.10"
      ]
     },
     "execution_count": 11,
     "metadata": {},
     "output_type": "execute_result"
    }
   ],
   "source": [
    "#Selezione delle variabili quantitative (colonne 2-7)\n",
    "quant = regioni.iloc[:,1:7]\n",
    "quant"
   ]
  },
  {
   "cell_type": "code",
   "execution_count": 12,
   "metadata": {},
   "outputs": [
    {
     "data": {
      "text/plain": [
       "array([ 16730.01763597,   6285.04548114,  67384.00480967, 105332.00029478,\n",
       "         7153.00220537, 141204.00022637,  15737.00283631, 283249.00016445,\n",
       "        12693.0010364 ,  21254.00242025,  93860.00023626,  40589.00524268,\n",
       "         5747.07107577,  58312.00706021,  76299.00039194,  10985.01232202,\n",
       "         6558.00560918,  23520.00308631, 113827.00049852,  23015.00206822,\n",
       "        84114.00112995, 122062.00413437,  23883.0166003 , 157934.00173145,\n",
       "        32467.01235762, 299979.00179243,  29423.01272559,   4524.02909584,\n",
       "       110590.00328217,  57319.00214056,  22477.00751768,  75042.00175855,\n",
       "        93029.00512415,   5745.11306634,  10172.03866636,   6790.07811001,\n",
       "       130557.0044299 ,  61099.00101957,  99047.00487678,    868.41192415,\n",
       "       134919.00246604,   9452.04108698, 276964.00169542,   6408.05699179,\n",
       "        27539.00359563,  87575.00373137,  34304.00167896,    538.33917747,\n",
       "        52027.0013642 ,  70014.00595574,  17270.02982293,  12843.0315584 ,\n",
       "        29805.01415366, 107542.00474629,  37948.01422986,  60231.00689894,\n",
       "        73820.00434841,  51647.01008868, 215865.00223244,  54691.00696714,\n",
       "        88638.00152491,  26476.01278969,  26795.00237171,  61637.00058325,\n",
       "         9072.0024063 ,   8915.05212548,  78369.00733948,  73942.00691434,\n",
       "        90904.00479907,  46443.0125106 ,  98179.00012961,  35872.00229413,\n",
       "        89595.00047843, 177917.00015069,  92639.00022642, 126586.00119365,\n",
       "        11472.00459597,  64743.00598775,  99585.00643184,  47020.01385931,\n",
       "        29033.00050029, 116317.00078013, 111890.00024958, 128852.00053333,\n",
       "         8495.00140024, 134051.00056799,   8584.00487884, 276096.00010201,\n",
       "         5540.00270758,  28407.00313708,  86707.0004213 ,  33436.00856143,\n",
       "         1406.37312261,  51159.01000254,  69146.00013291,  18138.0036367 ,\n",
       "        13711.0022894 ,  30673.0016896 , 106674.00018599, 125467.00091586,\n",
       "       142045.00082273, 128511.00028363, 162458.00054916,  47344.00149058,\n",
       "       100615.00262774, 135457.00257196,  82892.00524417,  64905.00161975,\n",
       "       152189.0017395 , 147762.00051116, 164724.00103625,  27377.0052734 ,\n",
       "       267512.00034098,   3044.02516744,  36991.00360263,  78123.00091676,\n",
       "        24852.01304361,   9990.06639918,  42575.01399741,  60562.00085532,\n",
       "        26722.00592948,  22295.00118502,  39257.00309817,  98090.00059731,\n",
       "       270556.00014842, 304503.00048778, 189389.00014877, 242660.00133427,\n",
       "       277502.00205424, 224937.00251824, 206950.00003825, 294234.00020636,\n",
       "       289807.0003371 , 306769.00004358, 169422.00011353,  33947.00252025,\n",
       "        81167.0005676 ,  27896.01057535,   6946.06535385,  45619.01090993,\n",
       "        63606.00049382,  23678.00491332,  19251.00199938,  36213.00217311,\n",
       "       101134.00045138, 115114.00071577,  61843.00129562,  27001.00854357,\n",
       "        79566.00244495,  97553.00124758,  10269.02108699,  14696.00869522,\n",
       "         2266.06290292, 135081.0012943 ,  53271.00360083,  88113.00467752,\n",
       "        35548.01116546,  17561.00146404, 104845.00117829, 100418.00097662,\n",
       "       117380.00029498,  19967.00325737,  34842.00423311,  17723.00277154,\n",
       "        35710.0084923 ,  51574.00807127,  47147.00803275,  64109.00417141,\n",
       "        73238.00551913,  52565.00139408,  70552.00811713,  16732.04322445,\n",
       "        12305.05140014,  29267.01846636, 108080.00654895,  17987.03045808,\n",
       "        69297.00952483,  64870.00971065,  81832.00602362,  55515.01225903,\n",
       "        87284.00059137,  82857.00073066,  99819.00023047,  37528.00026833,\n",
       "         4427.03645964,  12535.00412625, 124812.00038276,  16962.00888604,\n",
       "       120385.00047523, 137347.00031784])"
      ]
     },
     "execution_count": 12,
     "metadata": {},
     "output_type": "execute_result"
    }
   ],
   "source": [
    "#Distanza euclidea sulle variabili quantitative originali\n",
    "d_unscaled = pdist(quant, metric='euclidean')\n",
    "d_unscaled\n"
   ]
  },
  {
   "cell_type": "code",
   "execution_count": 16,
   "metadata": {},
   "outputs": [
    {
     "data": {
      "text/plain": [
       "array([[-0.50102596, -0.63902148,  0.54224653, -0.14336093, -0.65328836,\n",
       "         0.28499887],\n",
       "       [ 1.38634457,  0.38341289,  1.33165224,  1.40971582, -0.88371716,\n",
       "        -1.51615005],\n",
       "       [ 1.72454392, -0.80942721,  0.14754368,  0.70377184, -0.56672261,\n",
       "        -1.80169805],\n",
       "       [ 1.6045377 , -0.29821003, -1.01776949,  1.38799446,  0.27481767,\n",
       "        -0.33002759],\n",
       "       [-1.00287015, -0.29821003,  0.73020027, -0.76241949,  0.79749023,\n",
       "         0.8780601 ],\n",
       "       [-0.51193562,  0.89463008,  0.50465579, -0.69725543, -0.55476731,\n",
       "         0.61447733],\n",
       "       [-0.65376115, -0.38341289,  1.03092625,  0.57344372,  1.29156924,\n",
       "         1.03181672],\n",
       "       [-0.83922531, -0.04260143,  1.35044761, -0.70811611, -0.43653654,\n",
       "        -0.98898452],\n",
       "       [-0.94832187, -0.29821003, -0.64186202, -0.74069814,  3.24801026,\n",
       "         0.83412964],\n",
       "       [-0.54466459, -0.89463008,  0.59863266, -0.2954104 , -0.47846274,\n",
       "         1.36129518],\n",
       "       [ 0.49175276, -1.40584727,  0.22272518,  0.19332004, -0.94602797,\n",
       "        -0.28609713],\n",
       "       [-0.76285772,  0.97983294, -0.5102944 , -0.13250025,  0.63948192,\n",
       "        -0.13234052],\n",
       "       [ 0.88450038, -0.38341289, -1.24331398,  0.79065725, -0.09424028,\n",
       "        -1.91152421],\n",
       "       [ 1.33179629,  0.63902148, -1.35608622,  2.10479911, -0.5741327 ,\n",
       "         0.5925121 ],\n",
       "       [ 1.69181495,  0.21300716, -1.67560758,  1.43143717,  0.14986549,\n",
       "        -1.53811529],\n",
       "       [-0.78467703,  0.72422435, -0.09679618, -0.81672288,  0.39760744,\n",
       "         0.43875548],\n",
       "       [-0.32101664,  3.36551315, -0.69824814, -1.64213429, -0.80458904,\n",
       "         1.04279933],\n",
       "       [-0.65376115, -0.97983294,  1.89551345, -0.6212307 , -0.74361425,\n",
       "         0.39482502],\n",
       "       [-0.67558047, -0.1278043 , -1.33729085, -0.84930491, -0.97723847,\n",
       "         0.3069641 ],\n",
       "       [-0.9155929 , -0.63902148,  0.22272518, -1.18598588,  0.91449517,\n",
       "         0.72430348]])"
      ]
     },
     "execution_count": 16,
     "metadata": {},
     "output_type": "execute_result"
    }
   ],
   "source": [
    "#Standardizzazione dei dati (centro e scala)\n",
    "scaler = StandardScaler()\n",
    "data_std = scaler.fit_transform(regioni.iloc[:,1:7])\n",
    "data_std"
   ]
  },
  {
   "cell_type": "code",
   "execution_count": 33,
   "metadata": {},
   "outputs": [
    {
     "name": "stdout",
     "output_type": "stream",
     "text": [
      "Medie delle variabili standardizzate:\n",
      " Indicepov    -0.0\n",
      "Crimini       0.0\n",
      "Scolarizza   -0.0\n",
      "Dis_giov      0.0\n",
      "Pil           0.0\n",
      "Internet     -0.0\n",
      "dtype: float64\n"
     ]
    }
   ],
   "source": [
    "# Verifichiamo la media delle variabili standardizzate (dovrebbero essere vicine a 0), usiamo l'arrotondamento \n",
    "print(\"Medie delle variabili standardizzate:\\n\", np.round(np.mean(data_std, axis=0), decimals=8))"
   ]
  },
  {
   "cell_type": "code",
   "execution_count": 25,
   "metadata": {},
   "outputs": [
    {
     "name": "stdout",
     "output_type": "stream",
     "text": [
      "Matrice di covarianza standardizzate:\n",
      " [[ 1.         -0.05141485 -0.39004071  0.85126919 -0.32698544 -0.69024178]\n",
      " [-0.05141485  1.         -0.30118701 -0.20751215 -0.08944574  0.16279716]\n",
      " [-0.39004071 -0.30118701  1.         -0.28449256 -0.12446453  0.15236912]\n",
      " [ 0.85126919 -0.20751215 -0.28449256  1.         -0.13688061 -0.53348084]\n",
      " [-0.32698544 -0.08944574 -0.12446453 -0.13688061  1.          0.27327028]\n",
      " [-0.69024178  0.16279716  0.15236912 -0.53348084  0.27327028  1.        ]]\n"
     ]
    }
   ],
   "source": [
    "# Calcoliamo anche la matrice di covarianza\n",
    "data_std = (quant - quant.mean()) / quant.std(ddof=1)\n",
    "print('Matrice di covarianza standardizzate:\\n', np.cov(data_std, rowvar=False))"
   ]
  },
  {
   "cell_type": "code",
   "execution_count": 34,
   "metadata": {},
   "outputs": [
    {
     "data": {
      "text/plain": [
       "array([3.22381514, 3.11553371, 3.16851607, 1.75524594, 1.62472974,\n",
       "       2.21865142, 1.71948704, 4.08864099, 1.10380725, 1.4459876 ,\n",
       "       2.31527566, 3.25940785, 3.61438577, 4.0071265 , 1.93191006,\n",
       "       4.40777188, 1.45204074, 2.05105907, 1.95227103, 1.85438736,\n",
       "       2.8883358 , 4.33831706, 3.5991736 , 3.99069587, 3.09728662,\n",
       "       5.9310907 , 4.04825163, 2.79581782, 3.7725319 , 2.86382453,\n",
       "       3.42079001, 3.1182445 , 4.05288888, 5.49608347, 3.6644069 ,\n",
       "       4.36671628, 4.62997091, 2.17418277, 4.27433514, 3.87845325,\n",
       "       4.14865841, 3.27335485, 5.48034988, 3.94362685, 2.08650228,\n",
       "       3.74490113, 1.70624499, 3.4055712 , 2.28224784, 4.01509342,\n",
       "       5.84651937, 3.81900341, 3.83198628, 4.26536547, 3.92433062,\n",
       "       3.66622965, 3.49476936, 4.01630546, 4.5072856 , 3.62724818,\n",
       "       2.56465156, 3.07903844, 1.84179101, 1.73066791, 1.43866365,\n",
       "       3.52354289, 5.29064884, 4.32073773, 3.41958085, 3.91721881,\n",
       "       1.85370531, 1.46910364, 2.28342424, 2.73830815, 1.59044536,\n",
       "       2.92839589, 2.10686403, 4.18694842, 4.45221482, 4.81267754,\n",
       "       1.42341481, 4.28148971, 2.08428654, 2.73849155, 0.75374959,\n",
       "       2.60228021, 2.01786224, 4.07027056, 1.93379776, 2.78019773,\n",
       "       1.79808196, 3.83056194, 3.74705759, 4.33005321, 1.16037572,\n",
       "       2.8794079 , 2.29782639, 2.12674168, 2.18035651, 2.91835139,\n",
       "       2.83930604, 2.0576126 , 3.06660163, 2.48964099, 4.15461871,\n",
       "       3.98362831, 4.55363725, 2.30634974, 5.01349138, 2.59312453,\n",
       "       3.56409997, 1.97824448, 4.46092659, 2.59232537, 2.47881485,\n",
       "       2.52976788, 3.51824846, 4.66787264, 4.45073367, 2.27155624,\n",
       "       4.48955352, 1.75081058, 2.96433217, 2.50822513, 3.94958927,\n",
       "       4.75154384, 3.05021568, 4.85215594, 5.28052033, 5.17998923,\n",
       "       3.02875188, 5.43546572, 4.6875877 , 4.21817489, 2.48884547,\n",
       "       2.10137506, 2.80772422, 4.10467813, 3.90544992, 4.69308396,\n",
       "       2.1908101 , 4.56147911, 1.63432268, 2.39147306, 1.81914062,\n",
       "       3.15026236, 2.59221869, 3.36847567, 3.37159807, 3.02300344,\n",
       "       5.28753752, 2.27750491, 2.5546036 , 2.91648847, 3.03023561,\n",
       "       3.40759861, 3.46432686, 1.0174118 , 3.32925581, 3.38619681,\n",
       "       2.23092667, 2.20127387, 3.00189029, 1.30911175, 3.60459019,\n",
       "       5.42292509, 4.39239522, 3.21775203, 4.05719553, 2.37357122,\n",
       "       3.8466809 , 4.86302305, 4.83769755, 3.59294643, 4.59646309,\n",
       "       4.12493488, 5.51051392, 5.19655985, 3.86342536, 4.74322481,\n",
       "       3.0890698 , 2.79663061, 1.99400302, 1.52957541, 5.08201479,\n",
       "       3.63872749, 4.41334718, 3.27523765, 2.41904366, 2.50755704])"
      ]
     },
     "execution_count": 34,
     "metadata": {},
     "output_type": "execute_result"
    }
   ],
   "source": [
    "#Calcolo della distanza euclidea sui dati standardizzati\n",
    "dist_std = pdist(data_std, metric='euclidean')\n",
    "dist_std"
   ]
  },
  {
   "cell_type": "code",
   "execution_count": 36,
   "metadata": {},
   "outputs": [
    {
     "name": "stdout",
     "output_type": "stream",
     "text": [
      "Passaggi di fusione:\n",
      " [[ 4.         19.          0.75374959  2.        ]\n",
      " [11.         15.          1.0174118   2.        ]\n",
      " [ 0.          9.          1.10380725  2.        ]\n",
      " [12.         14.          1.30911175  2.        ]\n",
      " [ 5.         21.          1.64560165  3.        ]\n",
      " [17.         22.          1.66738072  3.        ]\n",
      " [ 3.         13.          1.73066791  2.        ]\n",
      " [ 1.          2.          1.85438736  2.        ]\n",
      " [ 6.         20.          1.9642891   3.        ]\n",
      " [10.         25.          2.20163706  4.        ]\n",
      " [ 7.         29.          2.40530829  5.        ]\n",
      " [18.         24.          2.4087908   4.        ]\n",
      " [23.         26.          2.77472052  4.        ]\n",
      " [ 8.         28.          3.12578446  4.        ]\n",
      " [27.         32.          3.79159495  6.        ]\n",
      " [16.         31.          3.86703617  5.        ]\n",
      " [30.         33.          5.10612856  9.        ]\n",
      " [35.         36.          5.47376799 14.        ]\n",
      " [34.         37.          9.40290257 20.        ]]\n"
     ]
    }
   ],
   "source": [
    "# Cluster gerarchico con il metodo Ward\n",
    "Clust = linkage(dist_std, method='ward')\n",
    "print('Passaggi di fusione:\\n', Clust)\n",
    "\n",
    "# I cluster sono bilanciati rispetto ai gruppi geografici\n",
    "#Passaggi di fusione coerenti Analizzando i dati di fusione, vediamo che i cluster si formano inizialmente con distanze inferiori a 2, \n",
    "#ma man mano che si aggregano le distanze aumentano, fino a un massimo di 9.40 per l'ultima fusione."
   ]
  },
  {
   "cell_type": "code",
   "execution_count": 39,
   "metadata": {},
   "outputs": [
    {
     "data": {
      "image/png": "[encoded data removed]",
      "text/plain": [
       "<Figure size 2000x700 with 1 Axes>"
      ]
     },
     "metadata": {},
     "output_type": "display_data"
    }
   ],
   "source": [
    "# Visualizzazione del dendrogramma con le etichette (nome delle regioni, supponendo sia la prima colonna)\n",
    "plt.figure(figsize=(20, 7))\n",
    "dendrogram(Clust, labels = regioni.iloc[:,0].values)\n",
    "plt.title('Dendogramma')\n",
    "plt.xlabel('regioni')\n",
    "plt.ylabel('Distanza')\n",
    "plt.show()\n"
   ]
  },
  {
   "cell_type": "code",
   "execution_count": 64,
   "metadata": {},
   "outputs": [
    {
     "data": {
      "text/plain": [
       "array([0.75374959, 1.0174118 , 1.10380725, 1.30911175, 1.64560165,\n",
       "       1.66738072, 1.73066791, 1.85438736, 1.9642891 , 2.20163706,\n",
       "       2.40530829, 2.4087908 , 2.77472052, 3.12578446, 3.79159495,\n",
       "       3.86703617, 5.10612856, 5.47376799, 9.40290257])"
      ]
     },
     "execution_count": 64,
     "metadata": {},
     "output_type": "execute_result"
    }
   ],
   "source": [
    "#Scelta del numero dei gruppi\n",
    "#Estraiamo le altezze ovvero le distanze di fusione tra i grupppi\n",
    "alt = Clust[:,2]\n",
    "alt"
   ]
  },
  {
   "cell_type": "code",
   "execution_count": 65,
   "metadata": {},
   "outputs": [
    {
     "name": "stdout",
     "output_type": "stream",
     "text": [
      "incrementi delle altezza: \n",
      " [  4.     15.    -18.246   1.246   9.      4.    -13.983   0.983  -2.\n",
      "   9.     -7.896   0.896  10.      2.    -12.691   0.691   3.     16.\n",
      " -19.354   1.354  14.      5.    -20.333   1.333   0.     10.    -11.269\n",
      "   0.269  -1.      1.     -0.146   0.146   4.     14.    -18.036   1.036\n",
      "   7.     15.    -22.798   1.798   3.     22.    -26.595   2.595  13.\n",
      "   6.    -21.591   1.591  19.      3.    -23.225   1.225   4.     20.\n",
      " -24.874   0.874  23.      5.    -28.208   2.208  10.     15.    -27.133\n",
      "   1.133  25.      3.    -27.894   3.894  26.      1.    -30.526   8.526\n",
      "  20.      3.    -27.597  10.597]\n",
      "massimo incremento: 26.0\n",
      "Indice di massimo incremento 68\n"
     ]
    }
   ],
   "source": [
    "# Aggiungiamo uno zero in testa e calcoliamo la differenza tra fusioni successive\n",
    "alt_diff = np.round(np.diff(np.insert(Clust, 0,0)), 3)\n",
    "alt_diff\n",
    "max_diff = np.argmax(alt_diff)\n",
    "\n",
    "print('incrementi delle altezza: \\n', alt_diff)\n",
    "print('massimo incremento:' , alt_diff[max_diff])\n",
    "print('Indice di massimo incremento', max_diff)\n",
    "\n",
    "#Questo significa che a questo punto specifico della fusione, c'è stato un aumento drastico della distanza tra i cluster uniti. Di solito, \n",
    "# questo punto indica il numero ottimale di cluster perché dopo questa soglia, si stanno unendo gruppi molto dissimili tra loro.\n",
    "#avendo come incremento massimo di fusione l'ultimo, teniamo due gruppi\n"
   ]
  },
  {
   "cell_type": "code",
   "execution_count": 44,
   "metadata": {},
   "outputs": [],
   "source": [
    "#aggregazione dei gruppi(cutree 2 gruppi)\n",
    "Fin_clast = fcluster(Clust, 2, criterion='maxclust')\n"
   ]
  },
  {
   "cell_type": "code",
   "execution_count": 47,
   "metadata": {},
   "outputs": [
    {
     "data": {
      "image/png": "[encoded data removed]",
      "text/plain": [
       "<Figure size 2000x700 with 1 Axes>"
      ]
     },
     "metadata": {},
     "output_type": "display_data"
    }
   ],
   "source": [
    "#dendogramma con i due greuppi\n",
    "plt.figure(figsize=(20,7))\n",
    "ddata = dendrogram(Clust, labels = regioni.iloc[:,0].values, color_threshold=Clust[-2,2] )\n",
    "plt.title('Dendogramma a due gruppi:')\n",
    "plt.xlabel('Regioni')\n",
    "plt.ylabel('Distanza')\n",
    "\n",
    "# Aggiungiamo una linea orizzontale per indicare il taglio\n",
    "plt.axhline(y=Clust[-2,2], color='r')\n",
    "plt.show()"
   ]
  },
  {
   "cell_type": "code",
   "execution_count": 49,
   "metadata": {},
   "outputs": [
    {
     "name": "stdout",
     "output_type": "stream",
     "text": [
      "Numero di regioni per cluster\n",
      "\n",
      "Fin_clast\n",
      "2    14\n",
      "1     6\n",
      "Name: count, dtype: int64\n"
     ]
    }
   ],
   "source": [
    "# Valutazione della classificazione\n",
    "# Aggiungiamo la colonna con il cluster di appartenenza al DataFram\n",
    "regioni['Fin_clast'] = Fin_clast\n",
    "print('Numero di regioni per cluster\\n')\n",
    "print(regioni['Fin_clast'].value_counts())"
   ]
  },
  {
   "cell_type": "code",
   "execution_count": 53,
   "metadata": {},
   "outputs": [
    {
     "name": "stdout",
     "output_type": "stream",
     "text": [
      "statistiche per cluster\n",
      "\n",
      "          Indicepov                                                         \\\n",
      "              count       mean       std   min     25%   50%     75%   max   \n",
      "Fin_clast                                                                    \n",
      "1               6.0  26.966667  2.882823  21.9  26.125  27.5  29.100  29.6   \n",
      "2              14.0   8.146429  3.410192   4.6   6.225   7.7   9.025  18.3   \n",
      "\n",
      "          Crimini            ...        Pil           Internet             \\\n",
      "            count      mean  ...        75%       max    count       mean   \n",
      "Fin_clast                    ...                                            \n",
      "1             6.0  3.500000  ...   81584.25   95087.0      6.0  41.866667   \n",
      "2            14.0  3.571429  ...  130167.00  310952.0     14.0  48.917857   \n",
      "\n",
      "                                                       \n",
      "                std   min     25%    50%    75%   max  \n",
      "Fin_clast                                              \n",
      "1          4.539897  38.1  38.900  39.85  43.95  49.5  \n",
      "2          2.810120  42.3  48.125  49.20  50.75  53.0  \n",
      "\n",
      "[2 rows x 48 columns]\n"
     ]
    }
   ],
   "source": [
    "# Statistiche descrittive per ogni gruppo\n",
    "print('statistiche per cluster\\n')\n",
    "print(regioni.groupby('Fin_clast').describe())"
   ]
  },
  {
   "cell_type": "code",
   "execution_count": 56,
   "metadata": {},
   "outputs": [
    {
     "name": "stdout",
     "output_type": "stream",
     "text": [
      "Assegnazione per ogni regione:\n",
      "\n",
      "       Regione  Cluster\n",
      "0      Abruzzo        2\n",
      "1   Basilicata        1\n",
      "2     Calabria        1\n",
      "3     Campania        1\n",
      "4      EmiliaR        2\n",
      "5       Friuli        2\n",
      "6        Lazio        2\n",
      "7      Liguria        2\n",
      "8    Lombardia        2\n",
      "9       Marche        2\n",
      "10      Molise        2\n",
      "11    Piemonte        2\n",
      "12      Puglia        1\n",
      "13    Sardegna        1\n",
      "14     Sicilia        1\n",
      "15     Toscana        2\n",
      "16    Trentino        2\n",
      "17      Umbria        2\n",
      "18      ValleA        2\n",
      "19      Veneto        2\n"
     ]
    }
   ],
   "source": [
    "#Visualizziamo il gruppo di appartenenza di ogni regione\n",
    "member = pd.DataFrame({'Regione': regioni.iloc[:, 0], 'Cluster': Fin_clast})\n",
    "print('Assegnazione per ogni regione:\\n')\n",
    "print(member)"
   ]
  },
  {
   "cell_type": "code",
   "execution_count": 57,
   "metadata": {},
   "outputs": [
    {
     "name": "stdout",
     "output_type": "stream",
     "text": [
      "Silohouette media:\n",
      " 0.35238152714050985\n"
     ]
    }
   ],
   "source": [
    "#Calcolo e visualizzazione della slihouette\n",
    "#Utilizziamo i dati standardizzati e il cluster ottenuto \n",
    "silhoutte_avg = silhouette_score(data_std, Fin_clast, metric='euclidean')\n",
    "print('Silohouette media:\\n', silhoutte_avg)"
   ]
  },
  {
   "cell_type": "code",
   "execution_count": 63,
   "metadata": {},
   "outputs": [
    {
     "data": {
      "image/png": "[encoded data removed]",
      "text/plain": [
       "<Figure size 2000x700 with 1 Axes>"
      ]
     },
     "metadata": {},
     "output_type": "display_data"
    }
   ],
   "source": [
    "#Valutiamolo per ogni campione\n",
    "sil_values = silhouette_samples(data_std, Fin_clast, metric = 'euclidean')\n",
    "\n",
    "#grafico di silhouette\n",
    "plt.figure(figsize=(20,7))\n",
    "plt.bar(range(len(sil_values)), sil_values)\n",
    "plt.title('Silohouette per ogni campione')\n",
    "plt.xlabel('Indice')\n",
    "plt.ylabel('Silhouette')\n",
    "plt.show()"
   ]
  }
 ],
 "metadata": {
  "kernelspec": {
   "display_name": "Python 3",
   "language": "python",
   "name": "python3"
  },
  "language_info": {
   "codemirror_mode": {
    "name": "ipython",
    "version": 3
   },
   "file_extension": ".py",
   "mimetype": "text/x-python",
   "name": "python",
   "nbconvert_exporter": "python",
   "pygments_lexer": "ipython3",
   "version": "3.13.0"
  }
 },
 "nbformat": 4,
 "nbformat_minor": 2
}
