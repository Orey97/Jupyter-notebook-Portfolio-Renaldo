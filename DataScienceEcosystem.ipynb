{
 "cells": [
  {
   "cell_type": "markdown",
   "id": "06625465-c25f-4389-adaa-1fddea8fe2e9",
   "metadata": {},
   "source": [
    "# Data Science Tools and Ecosystem"
   ]
  },
  {
   "cell_type": "markdown",
   "id": "8470ff86-eb9e-47cf-9cec-4c3e64fcf604",
   "metadata": {},
   "source": [
    "In this notebook, Data Science Tools and Ecosystem are summarized"
   ]
  },
  {
   "cell_type": "markdown",
   "id": "e22bb29e-a54f-4ba0-a226-03a7d265eeb2",
   "metadata": {},
   "source": [
    "**Objectives:**\n",
    "+ Practice using markdown cells to create structured documentation\n",
    "+ List popular languages for Data Science\n",
    "+ Learn how to perform basic calculations and operations in Python\n",
    "+ Explore how to convert units (e.g., minutes to hours) using Python"
   ]
  },
  {
   "cell_type": "markdown",
   "id": "ed80d5c6-e813-4ef2-876b-3b98f7d58f81",
   "metadata": {},
   "source": [
    "Some of the popular languages that Data Scientists use are: \n",
    "1. R\n",
    "2. PYTHON\n",
    "3. SQL"
   ]
  },
  {
   "cell_type": "markdown",
   "id": "5e604f19-c1e2-4ce9-b329-4bee39ff29a0",
   "metadata": {},
   "source": [
    "Some of the commonly used libraries used by Data Scientists include:\n",
    "\n",
    "1. NumPy\n",
    "2. Pandas\n",
    "3. Matplotlib"
   ]
  },
  {
   "cell_type": "markdown",
   "id": "e692ea5c-64e4-4dc2-a660-add27aab85b1",
   "metadata": {},
   "source": [
    "| Data Science Tools |\n",
    "|--------------------|\n",
    "| Jupyter Notebook   |\n",
    "| Apache Zeppelin    |\n",
    "| RStudio            |"
   ]
  },
  {
   "cell_type": "markdown",
   "id": "dbf3fe4c-abd6-4cd7-9441-faeb94836ade",
   "metadata": {},
   "source": [
    "### Below are a few examples of evaluating arithmetic expressions in Python"
   ]
  },
  {
   "cell_type": "code",
   "execution_count": 1,
   "id": "bedd2eb6-3d02-47d2-b8f6-2abe9e99b1c1",
   "metadata": {},
   "outputs": [
    {
     "data": {
      "text/plain": [
       "17"
      ]
     },
     "execution_count": 1,
     "metadata": {},
     "output_type": "execute_result"
    }
   ],
   "source": [
    "# This a simple arithmetic expression to mutiply then add integers\n",
    "(3*4)+5"
   ]
  },
  {
   "cell_type": "code",
   "execution_count": 2,
   "id": "2cbb8faa-03c1-4906-ada1-6d6770158830",
   "metadata": {},
   "outputs": [
    {
     "data": {
      "text/plain": [
       "3.3333333333333335"
      ]
     },
     "execution_count": 2,
     "metadata": {},
     "output_type": "execute_result"
    }
   ],
   "source": [
    "# This will convert 200 minutes to hours by diving by 60\n",
    "hours = 200/60\n",
    "hours"
   ]
  },
  {
   "cell_type": "markdown",
   "id": "cccee3a6-ee80-4aa2-8376-20b9f04e31dc",
   "metadata": {},
   "source": [
    "## Author\n",
    "RENALDO ARAPI"
   ]
  }
 ],
 "metadata": {
  "kernelspec": {
   "display_name": "Python 3 (ipykernel)",
   "language": "python",
   "name": "python3"
  },
  "language_info": {
   "codemirror_mode": {
    "name": "ipython",
    "version": 3
   },
   "file_extension": ".py",
   "mimetype": "text/x-python",
   "name": "python",
   "nbconvert_exporter": "python",
   "pygments_lexer": "ipython3",
   "version": "3.11.9"
  }
 },
 "nbformat": 4,
 "nbformat_minor": 5
}
